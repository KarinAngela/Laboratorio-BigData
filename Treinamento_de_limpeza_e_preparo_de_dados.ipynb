{
  "nbformat": 4,
  "nbformat_minor": 0,
  "metadata": {
    "colab": {
      "provenance": [],
      "authorship_tag": "ABX9TyMuTZaKNLbrIYELJvl8rui0",
      "include_colab_link": true
    },
    "kernelspec": {
      "name": "python3",
      "display_name": "Python 3"
    },
    "language_info": {
      "name": "python"
    }
  },
  "cells": [
    {
      "cell_type": "markdown",
      "metadata": {
        "id": "view-in-github",
        "colab_type": "text"
      },
      "source": [
        "<a href=\"https://colab.research.google.com/github/KarinAngela/Laboratorio-BigData/blob/main/Treinamento_de_limpeza_e_preparo_de_dados.ipynb\" target=\"_parent\"><img src=\"https://colab.research.google.com/assets/colab-badge.svg\" alt=\"Open In Colab\"/></a>"
      ]
    },
    {
      "cell_type": "code",
      "execution_count": 2,
      "metadata": {
        "id": "XMWvcLwm6vj0"
      },
      "outputs": [],
      "source": [
        "#Importano a biblioteca a ser  usada\n",
        "import pandas as pd \n",
        "import numpy as np\n",
        "\n",
        "\n"
      ]
    },
    {
      "cell_type": "code",
      "source": [
        "#Criando a sequencia de serie das notas de 0 a 10 \n",
        "\n",
        "nota = pd.Series([11, 10, 9, 8, 7, 6, 5, 3, 2, 4, -1, 12, -5, 13, -10, -4, 8, 9, 11, 19, 18])\n",
        "nota"
      ],
      "metadata": {
        "colab": {
          "base_uri": "https://localhost:8080/"
        },
        "id": "qUNWIdCo7EIP",
        "outputId": "08dc5ece-ba6b-46d4-9c4b-8c1ed50ef909"
      },
      "execution_count": 3,
      "outputs": [
        {
          "output_type": "execute_result",
          "data": {
            "text/plain": [
              "0     11\n",
              "1     10\n",
              "2      9\n",
              "3      8\n",
              "4      7\n",
              "5      6\n",
              "6      5\n",
              "7      3\n",
              "8      2\n",
              "9      4\n",
              "10    -1\n",
              "11    12\n",
              "12    -5\n",
              "13    13\n",
              "14   -10\n",
              "15    -4\n",
              "16     8\n",
              "17     9\n",
              "18    11\n",
              "19    19\n",
              "20    18\n",
              "dtype: int64"
            ]
          },
          "metadata": {},
          "execution_count": 3
        }
      ]
    },
    {
      "cell_type": "code",
      "source": [
        "# Notas maiores que 10 \n",
        "print('Notas maiores que 10')\n",
        "print(nota [nota > 10])\n",
        "print()\n",
        "\n",
        "# Notas menores que 0\n",
        "print('Notas menores que 0')\n",
        "print(nota [nota < 0])"
      ],
      "metadata": {
        "colab": {
          "base_uri": "https://localhost:8080/"
        },
        "id": "-E8Gk3xOYYrT",
        "outputId": "bdd28830-315e-4cfc-ac76-33d3a9b823c0"
      },
      "execution_count": 13,
      "outputs": [
        {
          "output_type": "stream",
          "name": "stdout",
          "text": [
            "Notas maiores que 10\n",
            "0     11\n",
            "11    12\n",
            "13    13\n",
            "18    11\n",
            "19    19\n",
            "20    18\n",
            "dtype: int64\n",
            "\n",
            "Notas menores que 0\n",
            "10    -1\n",
            "12    -5\n",
            "14   -10\n",
            "15    -4\n",
            "dtype: int64\n"
          ]
        }
      ]
    },
    {
      "cell_type": "code",
      "source": [
        "#Ntas fora do intervalo são discrepantes.Localizando as discrepantes e \"elimando\"\n",
        "nota = nota.clip(lower=0, upper=10)\n",
        "nota"
      ],
      "metadata": {
        "colab": {
          "base_uri": "https://localhost:8080/"
        },
        "id": "9-MhWM3c7wY7",
        "outputId": "ecfde200-1e18-406c-a19c-5d80263dad31"
      },
      "execution_count": 35,
      "outputs": [
        {
          "output_type": "execute_result",
          "data": {
            "text/plain": [
              "0     10\n",
              "1     10\n",
              "2      9\n",
              "3      8\n",
              "4      7\n",
              "5      6\n",
              "6      5\n",
              "7      3\n",
              "8      2\n",
              "9      4\n",
              "10     0\n",
              "11    10\n",
              "12     0\n",
              "13    10\n",
              "14     0\n",
              "15     0\n",
              "16     8\n",
              "17     9\n",
              "18    10\n",
              "19    10\n",
              "20    10\n",
              "dtype: int64"
            ]
          },
          "metadata": {},
          "execution_count": 35
        }
      ]
    },
    {
      "cell_type": "code",
      "source": [],
      "metadata": {
        "id": "OPOAEmQJGvMo"
      },
      "execution_count": null,
      "outputs": []
    }
  ]
}